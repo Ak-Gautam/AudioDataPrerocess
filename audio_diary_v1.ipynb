{
  "nbformat": 4,
  "nbformat_minor": 0,
  "metadata": {
    "colab": {
      "provenance": [],
      "authorship_tag": "ABX9TyPU//wUKw3QimVr7ixIHhY5",
      "include_colab_link": true
    },
    "kernelspec": {
      "name": "python3",
      "display_name": "Python 3"
    },
    "language_info": {
      "name": "python"
    }
  },
  "cells": [
    {
      "cell_type": "markdown",
      "metadata": {
        "id": "view-in-github",
        "colab_type": "text"
      },
      "source": [
        "<a href=\"https://colab.research.google.com/github/Ak-Gautam/AudioDataPrerocess/blob/main/audio_diary_v1.ipynb\" target=\"_parent\"><img src=\"https://colab.research.google.com/assets/colab-badge.svg\" alt=\"Open In Colab\"/></a>"
      ]
    },
    {
      "cell_type": "code",
      "execution_count": null,
      "metadata": {
        "id": "YNJXQ-WZs2Do"
      },
      "outputs": [],
      "source": [
        "!pip install aiohttp aiofiles huggingface_hub -q"
      ]
    },
    {
      "cell_type": "code",
      "source": [
        "import os\n",
        "import asyncio\n",
        "import aiohttp\n",
        "import aiofiles\n",
        "from huggingface_hub import hf_hub_url, HfApi\n",
        "from tqdm.asyncio import tqdm_asyncio"
      ],
      "metadata": {
        "id": "KgfOjUXgtCmA"
      },
      "execution_count": null,
      "outputs": []
    },
    {
      "cell_type": "code",
      "source": [
        "async def download_file(session, file, repo_id, repo_type, destination_dir, semaphore):\n",
        "    async with semaphore:\n",
        "        file_url = hf_hub_url(repo_id, file, repo_type=repo_type)\n",
        "        dest_path = os.path.join(destination_dir, file)\n",
        "        os.makedirs(os.path.dirname(dest_path), exist_ok=True)\n",
        "\n",
        "        async with session.get(file_url) as response:\n",
        "            if response.status == 200:\n",
        "                async with aiofiles.open(dest_path, 'wb') as f:\n",
        "                    await f.write(await response.read())\n",
        "            else:\n",
        "                print(f\"Failed to download {file}: HTTP {response.status}\")\n",
        "\n",
        "async def download_dataset(repo_id, repo_type, folder_path, destination_dir, max_concurrent=10):\n",
        "    api = HfApi()\n",
        "    all_files = api.list_repo_files(repo_id, repo_type=repo_type)\n",
        "    folder_files = [f for f in all_files if f.startswith(folder_path)]\n",
        "\n",
        "    semaphore = asyncio.Semaphore(max_concurrent)\n",
        "    async with aiohttp.ClientSession() as session:\n",
        "        tasks = [\n",
        "            download_file(session, file, repo_id, repo_type, destination_dir, semaphore)\n",
        "            for file in folder_files\n",
        "        ]\n",
        "        await tqdm_asyncio.gather(*tasks, desc=\"Downloading files\")\n",
        "\n",
        "# Configuration\n",
        "repo_id = \"Alignment-Lab-AI/podcast-1-test-preprocessed\"\n",
        "repo_type = \"dataset\"\n",
        "folder_path = \"0\"\n",
        "destination_dir = \"content/ddata\"\n",
        "\n",
        "# Run the async function\n",
        "async def main():\n",
        "    await download_dataset(repo_id, repo_type, folder_path, destination_dir)\n",
        "    print(f\"Folder '{folder_path}' from repository '{repo_id}' has been saved to '{destination_dir}'\")\n",
        "\n",
        "# This part is changed to work in Jupyter/Colab\n",
        "import nest_asyncio\n",
        "nest_asyncio.apply()\n",
        "\n",
        "loop = asyncio.get_event_loop()\n",
        "loop.run_until_complete(main())"
      ],
      "metadata": {
        "id": "lN8Ij0RrtEaw"
      },
      "execution_count": null,
      "outputs": []
    },
    {
      "cell_type": "code",
      "source": [
        "!pip install pydub -q"
      ],
      "metadata": {
        "id": "3zGfyCz5tHkv"
      },
      "execution_count": null,
      "outputs": []
    },
    {
      "cell_type": "code",
      "source": [
        "# Download a static FFmpeg build and add it to PATH.\n",
        "exist = !which ffmpeg\n",
        "if not exist:\n",
        "  !curl https://johnvansickle.com/ffmpeg/releases/ffmpeg-release-amd64-static.tar.xz -o ffmpeg.tar.xz \\\n",
        "     && tar -xf ffmpeg.tar.xz && rm ffmpeg.tar.xz\n",
        "  ffmdir = !find . -iname ffmpeg-*-static\n",
        "  path = %env PATH\n",
        "  path = path + ':' + ffmdir[0]\n",
        "  %env PATH $path\n",
        "print('')\n",
        "!which ffmpeg\n",
        "print('Done!')"
      ],
      "metadata": {
        "id": "phBLNH4DtIn-"
      },
      "execution_count": null,
      "outputs": []
    },
    {
      "cell_type": "code",
      "source": [
        "from pydub import AudioSegment"
      ],
      "metadata": {
        "id": "3HMVCC_gtKbv"
      },
      "execution_count": null,
      "outputs": []
    },
    {
      "cell_type": "code",
      "source": [
        "!pip install pyannote.audio==3.1.1 -q"
      ],
      "metadata": {
        "id": "40EEpQxTtP6P"
      },
      "execution_count": null,
      "outputs": []
    },
    {
      "cell_type": "code",
      "source": [
        "from pyannote.audio import Pipeline"
      ],
      "metadata": {
        "id": "5vxHI9SPtQb2"
      },
      "execution_count": null,
      "outputs": []
    },
    {
      "cell_type": "code",
      "source": [
        "# Constants\n",
        "HF_TOKEN = \"\"\n",
        "INPUT_FOLDER = \"content/ddata/0\"\n",
        "OUTPUT_FOLDER = \"contet/autodiarization\"\n",
        "SPACER_DURATION = 2000  # milliseconds"
      ],
      "metadata": {
        "id": "vx8e9dfytTJg"
      },
      "execution_count": null,
      "outputs": []
    },
    {
      "cell_type": "code",
      "source": [
        "pipeline = Pipeline.from_pretrained('pyannote/speaker-diarization-3.1', use_auth_token=HF_TOKEN)"
      ],
      "metadata": {
        "id": "wyqqmd9ItXMG"
      },
      "execution_count": null,
      "outputs": []
    },
    {
      "cell_type": "code",
      "source": [
        "import torch"
      ],
      "metadata": {
        "id": "VFeXw7y5tZEn"
      },
      "execution_count": null,
      "outputs": []
    },
    {
      "cell_type": "code",
      "source": [
        "!pip install git+https://github.com/openai/whisper.git -q"
      ],
      "metadata": {
        "id": "-V3SWA04tbPv"
      },
      "execution_count": null,
      "outputs": []
    },
    {
      "cell_type": "code",
      "source": [
        "import csv\n",
        "from typing import List, Tuple\n",
        "import shutil\n",
        "import whisper"
      ],
      "metadata": {
        "id": "vRGfwFGctd9P"
      },
      "execution_count": null,
      "outputs": []
    },
    {
      "cell_type": "code",
      "source": [
        "device = torch.device(\"cuda\" if torch.cuda.is_available() else \"cpu\")\n",
        "pipeline.to(device)"
      ],
      "metadata": {
        "id": "Y-NC6YmItesf"
      },
      "execution_count": null,
      "outputs": []
    },
    {
      "cell_type": "code",
      "source": [
        "# Initialize Whisper model\n",
        "whisper_model = whisper.load_model('large', device=device)"
      ],
      "metadata": {
        "id": "hEKm3c68tgon"
      },
      "execution_count": null,
      "outputs": []
    },
    {
      "cell_type": "code",
      "source": [
        "def create_directory(path: str):\n",
        "    os.makedirs(path, exist_ok=True)"
      ],
      "metadata": {
        "id": "gZSuo4zOtjwQ"
      },
      "execution_count": null,
      "outputs": []
    },
    {
      "cell_type": "code",
      "source": [
        "def transcribe_audio(audio_path: str) -> str:\n",
        "    result = whisper_model.transcribe(audio=audio_path, language='en')\n",
        "    return result['text']"
      ],
      "metadata": {
        "id": "_Eg00OmFtkhH"
      },
      "execution_count": null,
      "outputs": []
    },
    {
      "cell_type": "code",
      "source": [
        "def process_audio_file(input_file: str, output_dir: str) -> List[Tuple[str, str, str]]:\n",
        "    audio = AudioSegment.from_file(input_file)\n",
        "    spacer = AudioSegment.silent(duration=SPACER_DURATION)\n",
        "    audio = spacer.append(audio, crossfade=0)\n",
        "\n",
        "    temp_wav = os.path.join(output_dir, \"temp.wav\")\n",
        "    audio.export(temp_wav, format='wav')\n",
        "\n",
        "    diarization = pipeline(temp_wav)\n",
        "\n",
        "    segments = []\n",
        "    for turn, _, speaker in diarization.itertracks(yield_label=True):\n",
        "        start = int(turn.start * 1000)\n",
        "        end = int(turn.end * 1000)\n",
        "        segment = audio[start:end]\n",
        "\n",
        "        speaker_dir = os.path.join(output_dir, f\"speaker_{speaker.lower()}\")\n",
        "        create_directory(speaker_dir)\n",
        "\n",
        "        segment_filename = f\"speaker_{speaker}_{len(segments):03d}.wav\"\n",
        "        segment_path = os.path.join(speaker_dir, segment_filename)\n",
        "        segment.export(segment_path, format='wav')\n",
        "\n",
        "        # Transcribe the segment\n",
        "        transcription = transcribe_audio(segment_path)\n",
        "\n",
        "        segments.append((segment_filename, f\"Speaker {speaker}\", transcription))\n",
        "\n",
        "    os.remove(temp_wav)\n",
        "\n",
        "    return segments"
      ],
      "metadata": {
        "id": "azQJ8F_ztmfv"
      },
      "execution_count": null,
      "outputs": []
    },
    {
      "cell_type": "code",
      "source": [
        "def write_metadata(speaker_dir: str, segments: List[Tuple[str, str, str]]):\n",
        "    create_directory(speaker_dir)\n",
        "    metadata_path = os.path.join(speaker_dir, \"metadata.csv\")\n",
        "    with open(metadata_path, 'w', newline='') as csvfile:\n",
        "        writer = csv.writer(csvfile, delimiter='|')\n",
        "        writer.writerow([\"filename\", \"speaker\", \"text\"])\n",
        "        for segment in segments:\n",
        "            writer.writerow([segment[0].split('.')[0], segment[1], segment[2]])"
      ],
      "metadata": {
        "id": "MXYmj9Eqtoc_"
      },
      "execution_count": null,
      "outputs": []
    },
    {
      "cell_type": "code",
      "source": [
        "def main():\n",
        "    create_directory(OUTPUT_FOLDER)\n",
        "    for i, filename in enumerate(os.listdir(INPUT_FOLDER)):\n",
        "        if filename.endswith(('.mp3', '.wav', '.flac')):\n",
        "            input_file = os.path.join(INPUT_FOLDER, filename)\n",
        "            output_dir = os.path.join(OUTPUT_FOLDER, str(i).lower())\n",
        "            create_directory(output_dir)\n",
        "\n",
        "            print(f\"Processing file {i + 1}: {filename}\")\n",
        "            segments = process_audio_file(input_file, output_dir)\n",
        "\n",
        "            speakers = set(segment[1] for segment in segments)\n",
        "            for speaker in speakers:\n",
        "                speaker_segments = [segment for segment in segments if segment[1] == speaker]\n",
        "                speaker_dir = os.path.join(output_dir, speaker.lower().replace(' ', '_'))\n",
        "                write_metadata(speaker_dir, speaker_segments)\n",
        "\n",
        "            print(f\"Finished processing file {i + 1}: {filename}\")"
      ],
      "metadata": {
        "id": "d5AyKqbKtsMe"
      },
      "execution_count": null,
      "outputs": []
    },
    {
      "cell_type": "code",
      "source": [
        "main()"
      ],
      "metadata": {
        "id": "4VdfiaputtwI"
      },
      "execution_count": null,
      "outputs": []
    }
  ]
}